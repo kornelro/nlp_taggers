{
 "metadata": {
  "language_info": {
   "codemirror_mode": {
    "name": "ipython",
    "version": 3
   },
   "file_extension": ".py",
   "mimetype": "text/x-python",
   "name": "python",
   "nbconvert_exporter": "python",
   "pygments_lexer": "ipython3",
   "version": "3.8.5-final"
  },
  "orig_nbformat": 2,
  "kernelspec": {
   "name": "python38564bitvenvvenv573adf692de04e1988f0ce84527b75e2",
   "display_name": "Python 3.8.5 64-bit ('venv': venv)"
  }
 },
 "nbformat": 4,
 "nbformat_minor": 2,
 "cells": [
  {
   "cell_type": "code",
   "execution_count": 167,
   "metadata": {},
   "outputs": [],
   "source": [
    "from copy import deepcopy"
   ]
  },
  {
   "cell_type": "code",
   "execution_count": 168,
   "metadata": {},
   "outputs": [],
   "source": [
    "TEXT_FILE = './text.txt'"
   ]
  },
  {
   "cell_type": "code",
   "execution_count": 169,
   "metadata": {},
   "outputs": [],
   "source": [
    "shortcuts = ['np.']"
   ]
  },
  {
   "cell_type": "code",
   "execution_count": 170,
   "metadata": {},
   "outputs": [],
   "source": [
    "marks = ['(', ')', ':', ',', '<', '>', '{', '}', '[', ']']"
   ]
  },
  {
   "cell_type": "code",
   "execution_count": 171,
   "metadata": {},
   "outputs": [],
   "source": [
    "with open(TEXT_FILE, 'r') as file:\n",
    "    text = file.read().replace('\\n', ' ')\n",
    "\n",
    "words = text.split(' ')\n",
    "\n",
    "words_stack = deepcopy(words)\n",
    "\n",
    "while len(words_stack) > 0:\n",
    "\n",
    "    word = words_stack.pop()\n",
    "    # print(word)\n",
    "\n",
    "    i = words.index(word)\n",
    "\n",
    "    #znak interpunkcyjny na poczatku wyrazu\n",
    "    if word[0] in marks:\n",
    "        words.insert(i, word[0])\n",
    "        i= i + 1\n",
    "        words[i] = word.replace(word[0], '')\n",
    "        words_stack.append(words[i])\n",
    "\n",
    "    #znak interpunkcyjny na koncu wyrazu\n",
    "    elif word[-1] in marks:\n",
    "        words.insert(i+1, word[-1])\n",
    "        words[i] = word.replace(word[-1], '')\n",
    "        words_stack.append(words[i])\n",
    "\n",
    "    #znak interpunkcyjny wewnatrz, uwzglednic np przypadki jak czarno-biale i przenoszenie wyrazow do nowej linii\n",
    "\n",
    "    #kropka w wyrazie\n",
    "    elif '.' in word:\n",
    "        if not word in shortcuts:\n",
    "            words[i] = word.replace('.', '')\n",
    "            words.insert(i+1, '.')\n",
    "            words.insert(i+2, '<eos>')\n",
    "            words_stack.append(words[i])"
   ]
  },
  {
   "cell_type": "code",
   "execution_count": 172,
   "metadata": {},
   "outputs": [
    {
     "output_type": "execute_result",
     "data": {
      "text/plain": [
       "['Zbudowanie',\n",
       " 'tokenizatora',\n",
       " '(',\n",
       " 'programu',\n",
       " 'do',\n",
       " 'segmentacji',\n",
       " 'tekstu',\n",
       " 'na',\n",
       " 'poziomie',\n",
       " 'wyrazowym',\n",
       " ')',\n",
       " '.',\n",
       " '<eos>',\n",
       " 'Zakładamy',\n",
       " 'zastosowanie',\n",
       " 'prostego',\n",
       " 'podziału',\n",
       " 'na',\n",
       " 'zdania',\n",
       " ',',\n",
       " 'np.',\n",
       " 'wybrane',\n",
       " 'znaki',\n",
       " 'interpunkcyjne',\n",
       " 'wyznaczają',\n",
       " 'koniec',\n",
       " 'zdania',\n",
       " '.',\n",
       " '<eos>',\n",
       " 'Tokenizator',\n",
       " 'powinien',\n",
       " 'odróżniać',\n",
       " 'potencjalne',\n",
       " 'wyrazy',\n",
       " 'języka',\n",
       " 'od',\n",
       " 'innych',\n",
       " 'kategorii',\n",
       " 'tokenów',\n",
       " '.',\n",
       " '<eos>',\n",
       " '<',\n",
       " '(',\n",
       " '{',\n",
       " '[',\n",
       " 'Test',\n",
       " '(',\n",
       " 'kilka',\n",
       " ')',\n",
       " 'nawiasów',\n",
       " ']',\n",
       " '}',\n",
       " ')',\n",
       " '>']"
      ]
     },
     "metadata": {},
     "execution_count": 172
    }
   ],
   "source": [
    "words"
   ]
  }
 ]
}