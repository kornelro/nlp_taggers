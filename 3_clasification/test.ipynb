{
 "metadata": {
  "language_info": {
   "codemirror_mode": {
    "name": "ipython",
    "version": 3
   },
   "file_extension": ".py",
   "mimetype": "text/x-python",
   "name": "python",
   "nbconvert_exporter": "python",
   "pygments_lexer": "ipython3",
   "version": "3.8.5-final"
  },
  "orig_nbformat": 2,
  "kernelspec": {
   "name": "python38564bitvenvnlp31e59d1c6dfd4b8fb4744221137f0543",
   "display_name": "Python 3.8.5 64-bit ('venv_nlp')"
  }
 },
 "nbformat": 4,
 "nbformat_minor": 2,
 "cells": [
  {
   "cell_type": "code",
   "execution_count": 42,
   "metadata": {},
   "outputs": [],
   "source": [
    "import os\n",
    "from scripts.utils import get_tagged_df\n",
    "from tqdm import tqdm\n",
    "import pandas as pd"
   ]
  },
  {
   "cell_type": "code",
   "execution_count": 30,
   "metadata": {},
   "outputs": [],
   "source": [
    "FILES_DIR = '../Dane/wiki_train/'"
   ]
  },
  {
   "cell_type": "code",
   "execution_count": 8,
   "metadata": {},
   "outputs": [],
   "source": [
    "os.listdir('../Dane/wiki_train')\n",
    "\n",
    "with open('../Dane/wiki_train/'+os.listdir('../Dane/wiki_train')[0], 'r') as f:\n",
    "    text = f.read()"
   ]
  },
  {
   "cell_type": "code",
   "execution_count": 39,
   "metadata": {},
   "outputs": [],
   "source": [
    "verb_tags = ('fin', 'bedzie', 'aglt', 'praet', 'impt', 'imps', 'inf', 'pcon', 'pant', 'ger', 'pact', 'ppas')\n",
    "\n",
    "def part_of_speech(row):\n",
    "    pos = None\n",
    "    if row['tag'].startswith('subst'):\n",
    "        pos = 'noun'\n",
    "    elif row['tag'].startswith('adj'):\n",
    "        pos = 'adjective'\n",
    "    elif row['tag'].startswith(verb_tags):\n",
    "        pos = 'verb'\n",
    "\n",
    "    return pos"
   ]
  },
  {
   "cell_type": "code",
   "execution_count": 40,
   "metadata": {},
   "outputs": [
    {
     "output_type": "stream",
     "name": "stderr",
     "text": [
      " 33%|███▎      | 1/3 [00:03<00:07,  3.87s/it]\n",
      "HTTPConnectionPool(host='127.0.0.1', port=9003): Max retries exceeded with url: / (Caused by NewConnectionError('<urllib3.connection.HTTPConnection object at 0x7f85299ca910>: Failed to establish a new connection: [Errno 111] Connection refused'))\n",
      "Pilka-nozna_1523015.txt\n",
      " 67%|██████▋   | 2/3 [00:11<00:05,  5.14s/it]\n",
      "HTTPConnectionPool(host='127.0.0.1', port=9003): Max retries exceeded with url: / (Caused by NewConnectionError('<urllib3.connection.HTTPConnection object at 0x7f85299ca8b0>: Failed to establish a new connection: [Errno 111] Connection refused'))\n",
      "Amerykanscy-prozaicy_111298.txt\n",
      "100%|██████████| 3/3 [00:15<00:00,  5.30s/it]\n",
      "HTTPConnectionPool(host='127.0.0.1', port=9003): Max retries exceeded with url: / (Caused by NewConnectionError('<urllib3.connection.HTTPConnection object at 0x7f85299ca820>: Failed to establish a new connection: [Errno 111] Connection refused'))\n",
      "Gry-komputerowe_814662.txt\n",
      "\n"
     ]
    }
   ],
   "source": [
    "files = os.listdir(FILES_DIR)\n",
    "\n",
    "for file_name in tqdm(files[0:3]):\n",
    "    if file_name.endswith('.txt'):\n",
    "\n",
    "        try:\n",
    "            with open(FILES_DIR+file_name, 'r') as f:\n",
    "                text = f.read()\n",
    "            for tager in ['morphoDita', 'wcrft2', 'krnnt']:\n",
    "                df = get_tagged_df(text, tager)\n",
    "                df['part'] = df.apply(part_of_speech, axis=1)\n",
    "                df.to_csv(FILES_DIR+file_name[:-4]+'_'+tager+'.csv')\n",
    "\n",
    "        except Exception as e:\n",
    "            print()\n",
    "            print(e)\n",
    "            print(tager, file_name)"
   ]
  },
  {
   "cell_type": "code",
   "execution_count": 43,
   "metadata": {},
   "outputs": [],
   "source": [
    "d = pd.read_csv(FILES_DIR+'Amerykanscy-prozaicy_111298_morphoDita.csv')"
   ]
  }
 ]
}