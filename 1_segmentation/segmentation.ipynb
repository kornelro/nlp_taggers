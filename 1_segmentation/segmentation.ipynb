{
 "cells": [
  {
   "cell_type": "code",
   "execution_count": 25,
   "metadata": {},
   "outputs": [],
   "source": [
    "from copy import deepcopy\n",
    "import numpy as np\n",
    "import re"
   ]
  },
  {
   "cell_type": "code",
   "execution_count": 26,
   "metadata": {},
   "outputs": [],
   "source": [
    "TEXT_FILE = './text.txt'"
   ]
  },
  {
   "cell_type": "code",
   "execution_count": 27,
   "metadata": {},
   "outputs": [],
   "source": [
    "shortcuts = ['np.', 'godz.']"
   ]
  },
  {
   "cell_type": "code",
   "execution_count": 28,
   "metadata": {},
   "outputs": [],
   "source": [
    "marks = ['(', ')', ':', ',', '<', '>', '{', '}', '[', ']', '-', '_', '/']"
   ]
  },
  {
   "cell_type": "code",
   "execution_count": 29,
   "metadata": {},
   "outputs": [],
   "source": [
    "words_associated = set(['czerwona kartka', 'biało-czerwone'])"
   ]
  },
  {
   "cell_type": "code",
   "execution_count": 30,
   "metadata": {
    "tags": []
   },
   "outputs": [],
   "source": [
    "# obsluzyc np daty, przeniesienie do nast linijki\n",
    "with open(TEXT_FILE, 'r') as file:\n",
    "    text = file.read().replace('\\n', ' ')\n",
    "\n",
    "words = text.split()\n",
    "\n",
    "words_stack = deepcopy(words)\n",
    "\n",
    "while len(words_stack) > 0:\n",
    "\n",
    "    word = words_stack.pop()\n",
    "    # print(word)\n",
    "\n",
    "    i = words.index(word)\n",
    "\n",
    "    separators = [m for m in word if m in marks]\n",
    "\n",
    "    #zwiazki wyrazowe\n",
    "    if [w for w in words_associated if w.endswith(word)]:\n",
    "        prev_word = words_stack.pop()\n",
    "        if prev_word+' '+word in words_associated:\n",
    "            words[i] = prev_word+' '+word\n",
    "            del words[i-1]\n",
    "        else:\n",
    "            words_stack.append(prev_word)\n",
    "\n",
    "    #znak interpunkcyjny na poczatku wyrazu\n",
    "    elif word[0] in marks:\n",
    "        words.insert(i, word[0])\n",
    "        i= i + 1\n",
    "        words[i] = word.replace(word[0], '')\n",
    "        words_stack.append(words[i])\n",
    "\n",
    "    #znak interpunkcyjny na koncu wyrazu\n",
    "    elif word[-1] in marks:\n",
    "        words.insert(i+1, word[-1])\n",
    "        words[i] = word.replace(word[-1], '')\n",
    "        words_stack.append(words[i])\n",
    "\n",
    "    #trzykropek na poczatku\n",
    "    elif word.startswith('...'):\n",
    "        words.insert(i, '...')\n",
    "        i= i + 1\n",
    "        words[i] = word.replace('...', '')\n",
    "        words_stack.append(words[i])\n",
    "\n",
    "    #trzykropek na koncu\n",
    "    elif word.endswith('...'):\n",
    "        words.insert(i+1, '...')\n",
    "        words[i] = word.replace('...', '')\n",
    "        words_stack.append(words[i])\n",
    "\n",
    "    #kropka w wyrazie\n",
    "    elif '.' in word:\n",
    "        if not word in shortcuts:\n",
    "            words[i] = word.replace('.', '')\n",
    "            words.insert(i+1, '.')\n",
    "            words.insert(i+2, '<eos>')\n",
    "            words_stack.append(words[i])\n",
    "\n",
    "    #kropka w wyrazie\n",
    "    elif separators:\n",
    "        if not word in words_associated:\n",
    "            sep = separators[0]\n",
    "            new_words = re.split('([^a-zA-Z0-9])', word)\n",
    "            del words[i]\n",
    "            for w in new_words:\n",
    "                if w != '':\n",
    "                    words.insert(i+1, w)\n",
    "                    i += 1"
   ]
  },
  {
   "cell_type": "code",
   "execution_count": 31,
   "metadata": {},
   "outputs": [
    {
     "output_type": "stream",
     "name": "stdout",
     "text": [
      "['Sklep', 'sportowy', 'otwarty', 'w', 'godz.', '(', '15', '-', '16', 'codziennie', ')', '.', '<eos>', 'Do', 'nabycia', 'np.', 'biało-czerwone', 'stroje', 'i', 'czerwona kartka', '.', '<eos>']\n"
     ]
    }
   ],
   "source": [
    "print(words)"
   ]
  }
 ],
 "metadata": {
  "kernelspec": {
   "display_name": "Python 3",
   "language": "python",
   "name": "python3"
  },
  "language_info": {
   "codemirror_mode": {
    "name": "ipython",
    "version": 3
   },
   "file_extension": ".py",
   "mimetype": "text/x-python",
   "name": "python",
   "nbconvert_exporter": "python",
   "pygments_lexer": "ipython3",
   "version": "3.8.5-final"
  }
 },
 "nbformat": 4,
 "nbformat_minor": 2
}