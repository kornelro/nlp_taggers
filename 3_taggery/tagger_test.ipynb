{
 "cells": [
  {
   "cell_type": "code",
   "execution_count": 7,
   "metadata": {},
   "outputs": [],
   "source": [
    "import json\n",
    "import requests\n",
    "import time\n",
    "\n",
    "clarinpl_url = \"http://ws.clarin-pl.eu/nlprest2/base\"\n",
    "user_mail = \"demo2019@nlpday.pl\""
   ]
  },
  {
   "cell_type": "code",
   "execution_count": 4,
   "metadata": {},
   "outputs": [],
   "source": [
    "def morphoDita_tagger(text, display=False):\n",
    "    url = clarinpl_url + \"/process\"\n",
    "    lpmn = \"morphoDita\"\n",
    "    \n",
    "    payload = {'text': text, 'lpmn': lpmn, 'user': user_mail}\n",
    "    headers = {'content-type': 'application/json'}\n",
    "    \n",
    "    r = requests.post(url, data=json.dumps(payload), headers=headers)\n",
    "    ccl = r.content.decode('utf-8')\n",
    "    \n",
    "    if display:\n",
    "        print(ccl)\n",
    "        \n",
    "        \n",
    "def wcrft2_tagger(text, display=False):\n",
    "    url = clarinpl_url + \"/process\"\n",
    "    lpmn = \"wcrft2\"\n",
    "    \n",
    "    payload = {'text': text, 'lpmn': lpmn, 'user': user_mail}\n",
    "    headers = {'content-type': 'application/json'}\n",
    "    \n",
    "    r = requests.post(url, data=json.dumps(payload), headers=headers)\n",
    "    ccl = r.content.decode('utf-8')\n",
    "    \n",
    "    if display:\n",
    "        print(ccl)\n",
    "\n",
    "\n",
    "def krnnt_tagger(text, display=False):\n",
    "    url = \"http://127.0.0.1:9003/\"\n",
    "\n",
    "    r = requests.post(url, data=text.encode('utf-8'))\n",
    "    ccl = r.content.decode('utf-8')\n",
    "    \n",
    "    if display:\n",
    "        print(ccl)"
   ]
  },
  {
   "cell_type": "code",
   "execution_count": 18,
   "metadata": {},
   "outputs": [
    {
     "name": "stdout",
     "output_type": "stream",
     "text": [
      "========== morphoDita ==========\n",
      "morphoDita exec time: 0.8147s\n",
      "============ wcrft2 ============\n",
      "wcrft2 exec time: 1.2651s\n",
      "============ krnnt =============\n",
      "krnnt exec time: 0.0482s\n"
     ]
    }
   ],
   "source": [
    "display = False\n",
    "\n",
    "#text = \"Przykładowe zdanie to jest.\"\n",
    "text = \"A mogę, bo moim zdaniem jest do niczego. I to delikatnie mówiąc... Rzecz gustu :slight_smile: Ja sobie z przyjemnością obejrzałam wczoraj \\\"Live and Let Die\\\". Nareszcie bez Connery'ego!!! Pasuje. Najbardziej ze wszystkich. Może trochę za ładny, ale grą pasuje. IMHO. A Connery to nie święta krowa :wink:\"\n",
    "\n",
    "print('========== morphoDita ==========')\n",
    "start_timer = time.time()\n",
    "\n",
    "morphoDita_tagger(text, display=display)\n",
    "\n",
    "exec_time = time.time() - start_timer\n",
    "print('morphoDita exec time: %.4fs'%(exec_time))\n",
    "\n",
    "\n",
    "print('============ wcrft2 ============')\n",
    "start_timer = time.time()\n",
    "\n",
    "wcrft2_tagger(text, display=display)\n",
    "\n",
    "exec_time = time.time() - start_timer\n",
    "print('wcrft2 exec time: %.4fs'%(exec_time))\n",
    "\n",
    "\n",
    "print('============ krnnt =============')\n",
    "start_timer = time.time()\n",
    "\n",
    "krnnt_tagger(text, display=display)\n",
    "\n",
    "exec_time = time.time() - start_timer\n",
    "print('krnnt exec time: %.4fs'%(exec_time))"
   ]
  },
  {
   "cell_type": "code",
   "execution_count": null,
   "metadata": {},
   "outputs": [],
   "source": []
  },
  {
   "cell_type": "code",
   "execution_count": null,
   "metadata": {},
   "outputs": [],
   "source": []
  }
 ],
 "metadata": {
  "kernelspec": {
   "display_name": "Python 3",
   "language": "python",
   "name": "python3"
  },
  "language_info": {
   "codemirror_mode": {
    "name": "ipython",
    "version": 3
   },
   "file_extension": ".py",
   "mimetype": "text/x-python",
   "name": "python",
   "nbconvert_exporter": "python",
   "pygments_lexer": "ipython3",
   "version": "3.8.2"
  }
 },
 "nbformat": 4,
 "nbformat_minor": 4
}
