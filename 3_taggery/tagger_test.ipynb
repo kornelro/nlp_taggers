{
 "cells": [
  {
   "cell_type": "code",
   "execution_count": 3,
   "metadata": {},
   "outputs": [],
   "source": [
    "import json\n",
    "import requests\n",
    "\n",
    "clarinpl_url = \"http://ws.clarin-pl.eu/nlprest2/base\"\n",
    "user_mail = \"demo2019@nlpday.pl\""
   ]
  },
  {
   "cell_type": "code",
   "execution_count": 8,
   "metadata": {},
   "outputs": [],
   "source": [
    "url = clarinpl_url + \"/process\"\n",
    "\n",
    "#lpmn = \"wcrft2\"\n",
    "lpmn = \"morphoDita\"\n",
    "\n",
    "text = \"Przykładowe zdanie to jest.\"\n",
    "\n",
    "payload = {'text': text, 'lpmn': lpmn, 'user': user_mail}\n",
    "headers = {'content-type': 'application/json'}"
   ]
  },
  {
   "cell_type": "code",
   "execution_count": 9,
   "metadata": {
    "scrolled": false
   },
   "outputs": [
    {
     "name": "stdout",
     "output_type": "stream",
     "text": [
      "<?xml version=\"1.0\" encoding=\"UTF-8\"?>\n",
      "<!DOCTYPE chunkList SYSTEM \"ccl.dtd\">\n",
      "<chunkList>\n",
      "<chunk id=\"1\" type=\"p\">\n",
      "<sentence id=\"1\">\n",
      "<tok>\n",
      "<orth>Przykładowe</orth>\n",
      "<lex disamb=\"1\"><base>przykładowy</base><ctag>adj:sg:nom:n:pos</ctag></lex>\n",
      "</tok>\n",
      "<tok>\n",
      "<orth>zdanie</orth>\n",
      "<lex disamb=\"1\"><base>zdanie</base><ctag>subst:sg:nom:n</ctag></lex>\n",
      "</tok>\n",
      "<tok>\n",
      "<orth>to</orth>\n",
      "<lex disamb=\"1\"><base>to</base><ctag>pred</ctag></lex>\n",
      "</tok>\n",
      "<tok>\n",
      "<orth>jest</orth>\n",
      "<lex disamb=\"1\"><base>być</base><ctag>fin:sg:ter:imperf</ctag></lex>\n",
      "</tok>\n",
      "<ns/>\n",
      "<tok>\n",
      "<orth>.</orth>\n",
      "<lex disamb=\"1\"><base>.</base><ctag>interp</ctag></lex>\n",
      "</tok>\n",
      "</sentence>\n",
      "</chunk>\n",
      "</chunkList>\n",
      "\n"
     ]
    }
   ],
   "source": [
    "r = requests.post(url, data=json.dumps(payload), headers=headers)\n",
    "ccl = r.content.decode('utf-8')\n",
    "print(ccl)"
   ]
  },
  {
   "cell_type": "code",
   "execution_count": 11,
   "metadata": {},
   "outputs": [],
   "source": [
    "url = clarinpl_url + \"/process\"\n",
    "\n",
    "lpmn = \"wcrft2\"\n",
    "#lpmn = \"morphoDita\"\n",
    "\n",
    "text = \"Przykładowe zdanie to jest.\"\n",
    "\n",
    "payload = {'text': text, 'lpmn': lpmn, 'user': user_mail}\n",
    "headers = {'content-type': 'application/json'}"
   ]
  },
  {
   "cell_type": "code",
   "execution_count": 12,
   "metadata": {},
   "outputs": [
    {
     "name": "stdout",
     "output_type": "stream",
     "text": [
      "<?xml version=\"1.0\" encoding=\"UTF-8\"?>\n",
      "<!DOCTYPE chunkList SYSTEM \"ccl.dtd\">\n",
      "<chunkList>\n",
      " <chunk id=\"ch1\" type=\"p\">\n",
      "  <sentence id=\"s1\">\n",
      "   <tok>\n",
      "    <orth>Przykładowe</orth>\n",
      "    <lex disamb=\"1\"><base>przykładowy</base><ctag>adj:sg:nom:n:pos</ctag></lex>\n",
      "   </tok>\n",
      "   <tok>\n",
      "    <orth>zdanie</orth>\n",
      "    <lex disamb=\"1\"><base>zdanie</base><ctag>subst:sg:nom:n</ctag></lex>\n",
      "   </tok>\n",
      "   <tok>\n",
      "    <orth>to</orth>\n",
      "    <lex disamb=\"1\"><base>to</base><ctag>conj</ctag></lex>\n",
      "   </tok>\n",
      "   <tok>\n",
      "    <orth>jest</orth>\n",
      "    <lex disamb=\"1\"><base>być</base><ctag>fin:sg:ter:imperf</ctag></lex>\n",
      "   </tok>\n",
      "   <ns/>\n",
      "   <tok>\n",
      "    <orth>.</orth>\n",
      "    <lex disamb=\"1\"><base>.</base><ctag>interp</ctag></lex>\n",
      "   </tok>\n",
      "  </sentence>\n",
      " </chunk>\n",
      "</chunkList>\n",
      "\n"
     ]
    }
   ],
   "source": [
    "r = requests.post(url, data=json.dumps(payload), headers=headers)\n",
    "ccl = r.content.decode('utf-8')\n",
    "print(ccl)"
   ]
  },
  {
   "cell_type": "code",
   "execution_count": null,
   "metadata": {},
   "outputs": [],
   "source": []
  }
 ],
 "metadata": {
  "kernelspec": {
   "display_name": "Python 3",
   "language": "python",
   "name": "python3"
  },
  "language_info": {
   "codemirror_mode": {
    "name": "ipython",
    "version": 3
   },
   "file_extension": ".py",
   "mimetype": "text/x-python",
   "name": "python",
   "nbconvert_exporter": "python",
   "pygments_lexer": "ipython3",
   "version": "3.8.2"
  }
 },
 "nbformat": 4,
 "nbformat_minor": 4
}
