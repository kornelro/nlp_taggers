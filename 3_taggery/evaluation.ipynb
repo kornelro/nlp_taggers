{
 "metadata": {
  "language_info": {
   "codemirror_mode": {
    "name": "ipython",
    "version": 3
   },
   "file_extension": ".py",
   "mimetype": "text/x-python",
   "name": "python",
   "nbconvert_exporter": "python",
   "pygments_lexer": "ipython3",
   "version": "3.8.5-final"
  },
  "orig_nbformat": 2,
  "kernelspec": {
   "name": "python38564bitvenvnlpd247da025c374318999c8e771c7dcaca",
   "display_name": "Python 3.8.5 64-bit ('venv_nlp')"
  }
 },
 "nbformat": 4,
 "nbformat_minor": 2,
 "cells": [
  {
   "cell_type": "code",
   "execution_count": 73,
   "metadata": {},
   "outputs": [],
   "source": [
    "import pandas as pd\n",
    "from tqdm import tqdm\n",
    "import statistics\n",
    "from sklearn.metrics import accuracy_score"
   ]
  },
  {
   "cell_type": "code",
   "execution_count": 74,
   "metadata": {},
   "outputs": [],
   "source": [
    "gold = pd.read_csv('./taged/gold_tags.csv')\n",
    "krnnt = pd.read_csv('./taged/krnnt_tags.csv')\n",
    "morphodita = pd.read_csv('./taged/morphodita_tags.csv')\n",
    "wcrft2 = pd.read_csv('./taged/wcrft2_tags.csv')"
   ]
  },
  {
   "cell_type": "code",
   "execution_count": 75,
   "metadata": {},
   "outputs": [
    {
     "output_type": "stream",
     "name": "stdout",
     "text": [
      "Number of unique tags:  537\n"
     ]
    }
   ],
   "source": [
    "num_unique_tags = len(gold['tag'].unique())\n",
    "print('Number of unique tags: ', num_unique_tags)"
   ]
  },
  {
   "cell_type": "code",
   "execution_count": 76,
   "metadata": {},
   "outputs": [],
   "source": [
    "def get_similar_bases_tags(gold, tager):\n",
    "\n",
    "    tags_gold = []\n",
    "    tags_tager = []\n",
    "\n",
    "    diff = abs(len(gold) - len(tager))\n",
    "\n",
    "    for i in tqdm(range(len(gold))):\n",
    "        base_gold = gold.iloc[i]['base'] \n",
    "        tags_gold.append(gold.iloc[i]['tag'])\n",
    "\n",
    "        if tager.iloc[i]['base'] == base_gold:\n",
    "            tags_tager.append(tager.iloc[0]['tag'])\n",
    "        else:\n",
    "            min_i = min(0, i - int(diff / 2) + 1)\n",
    "            max_i = max(i + int(diff / 2) + 1, len(tager) - 1)\n",
    "            rows = tager.iloc[min_i:max_i]\n",
    "            rows = rows[rows['base'] == base_gold]\n",
    "            if len(rows) > 0:\n",
    "                middle_i = int(statistics.median(list(range(len(rows)))))\n",
    "                tags_tager.append(rows.iloc[middle_i]['tag'])\n",
    "            else:\n",
    "                tags_tager.append('_')\n",
    "\n",
    "    return tags_gold, tags_tager\n"
   ]
  },
  {
   "source": [
    "### KRNNT Tager Accuracy"
   ],
   "cell_type": "markdown",
   "metadata": {}
  },
  {
   "cell_type": "code",
   "execution_count": 77,
   "metadata": {},
   "outputs": [
    {
     "output_type": "stream",
     "name": "stderr",
     "text": [
      "100%|██████████| 27563/27563 [01:13<00:00, 373.75it/s]\n"
     ]
    },
    {
     "output_type": "execute_result",
     "data": {
      "text/plain": [
       "0.5944926169139789"
      ]
     },
     "metadata": {},
     "execution_count": 77
    }
   ],
   "source": [
    "tags_gold_1, tags_tager_1 = get_similar_bases_tags(gold, krnnt)\n",
    "accuracy_score(tags_gold_1, tags_tager_1)"
   ]
  },
  {
   "source": [
    "### MorphoDita Tager Accuracy"
   ],
   "cell_type": "markdown",
   "metadata": {}
  },
  {
   "cell_type": "code",
   "execution_count": 78,
   "metadata": {},
   "outputs": [
    {
     "output_type": "stream",
     "name": "stderr",
     "text": [
      "100%|██████████| 27563/27563 [01:10<00:00, 389.06it/s]\n"
     ]
    },
    {
     "output_type": "execute_result",
     "data": {
      "text/plain": [
       "0.5813953488372093"
      ]
     },
     "metadata": {},
     "execution_count": 78
    }
   ],
   "source": [
    "tags_gold_2, tags_tager_2 = get_similar_bases_tags(gold, morphodita)\n",
    "accuracy_score(tags_gold_2, tags_tager_2)"
   ]
  },
  {
   "source": [
    "### WCRFT2 Tager Accuracy"
   ],
   "cell_type": "markdown",
   "metadata": {}
  },
  {
   "cell_type": "code",
   "execution_count": 79,
   "metadata": {},
   "outputs": [
    {
     "output_type": "stream",
     "name": "stderr",
     "text": [
      "100%|██████████| 27563/27563 [01:14<00:00, 367.79it/s]\n"
     ]
    },
    {
     "output_type": "execute_result",
     "data": {
      "text/plain": [
       "0.47777818089467766"
      ]
     },
     "metadata": {},
     "execution_count": 79
    }
   ],
   "source": [
    "tags_gold_3, tags_tager_3 = get_similar_bases_tags(gold, wcrft2)\n",
    "accuracy_score(tags_gold_3, tags_tager_3)"
   ]
  }
 ]
}